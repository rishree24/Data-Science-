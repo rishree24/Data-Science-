{
 "cells": [
  {
   "cell_type": "code",
   "execution_count": null,
   "id": "64d32144",
   "metadata": {},
   "outputs": [],
   "source": [
    "l=[]\n",
    "l"
   ]
  },
  {
   "cell_type": "code",
   "execution_count": null,
   "id": "4d3d69ec",
   "metadata": {},
   "outputs": [],
   "source": [
    "l=['a','b','c']\n",
    "l"
   ]
  },
  {
   "cell_type": "code",
   "execution_count": null,
   "id": "52ac50c5",
   "metadata": {},
   "outputs": [],
   "source": [
    "l=['a',6, 10.60]\n",
    "l"
   ]
  },
  {
   "cell_type": "code",
   "execution_count": null,
   "id": "0fc328e7",
   "metadata": {},
   "outputs": [],
   "source": [
    "l2=list(l)\n",
    "l2"
   ]
  },
  {
   "cell_type": "code",
   "execution_count": null,
   "id": "41a40a9d",
   "metadata": {},
   "outputs": [],
   "source": [
    "marks=[35,40,50,60,80,100]"
   ]
  },
  {
   "cell_type": "code",
   "execution_count": null,
   "id": "35c44eb9",
   "metadata": {},
   "outputs": [],
   "source": [
    "marks"
   ]
  },
  {
   "cell_type": "code",
   "execution_count": null,
   "id": "28168754",
   "metadata": {},
   "outputs": [],
   "source": [
    "copy_makrs=marks.copy()"
   ]
  },
  {
   "cell_type": "code",
   "execution_count": null,
   "id": "15138df6",
   "metadata": {},
   "outputs": [],
   "source": [
    "marks.copy()"
   ]
  },
  {
   "cell_type": "code",
   "execution_count": null,
   "id": "9fd6a90f",
   "metadata": {},
   "outputs": [],
   "source": [
    "list('shanakr')"
   ]
  },
  {
   "cell_type": "code",
   "execution_count": null,
   "id": "bfc1b2f7",
   "metadata": {},
   "outputs": [],
   "source": [
    "list('123456')"
   ]
  },
  {
   "cell_type": "code",
   "execution_count": null,
   "id": "7725cad8",
   "metadata": {},
   "outputs": [],
   "source": [
    "#Append"
   ]
  },
  {
   "cell_type": "code",
   "execution_count": null,
   "id": "13907e59",
   "metadata": {},
   "outputs": [],
   "source": [
    "Employee=[]\n",
    "Employee"
   ]
  },
  {
   "cell_type": "code",
   "execution_count": null,
   "id": "0070d8e6",
   "metadata": {},
   "outputs": [],
   "source": [
    "print(Employee)"
   ]
  },
  {
   "cell_type": "code",
   "execution_count": null,
   "id": "4048b5ae",
   "metadata": {},
   "outputs": [],
   "source": [
    "Employee.remove('Radha')"
   ]
  },
  {
   "cell_type": "code",
   "execution_count": null,
   "id": "f7b587a7",
   "metadata": {},
   "outputs": [],
   "source": [
    "print(Employee)"
   ]
  },
  {
   "cell_type": "code",
   "execution_count": null,
   "id": "7dbd2e13",
   "metadata": {},
   "outputs": [],
   "source": [
    "Employee.append('Ramesh')\n",
    "Employee.append('Suresh')\n",
    "print(Employee)"
   ]
  },
  {
   "cell_type": "code",
   "execution_count": null,
   "id": "b27cc013",
   "metadata": {},
   "outputs": [],
   "source": [
    "Employee.insert(1,\"Salman\")\n",
    "Employee"
   ]
  },
  {
   "cell_type": "code",
   "execution_count": null,
   "id": "b809d2b4",
   "metadata": {},
   "outputs": [],
   "source": [
    "emp_salary=[15000,20000,25000]\n",
    "emp_salary"
   ]
  },
  {
   "cell_type": "code",
   "execution_count": null,
   "id": "c2982d2b",
   "metadata": {},
   "outputs": [],
   "source": [
    "emp_salary.insert(0,18000)\n",
    "emp_salary"
   ]
  },
  {
   "cell_type": "code",
   "execution_count": null,
   "id": "a38c8dca",
   "metadata": {},
   "outputs": [],
   "source": [
    "Employee"
   ]
  },
  {
   "cell_type": "code",
   "execution_count": null,
   "id": "ec2cc0b2",
   "metadata": {},
   "outputs": [],
   "source": [
    "len(Employee)"
   ]
  },
  {
   "cell_type": "code",
   "execution_count": null,
   "id": "20ee73a2",
   "metadata": {},
   "outputs": [],
   "source": [
    "#Indexing and Slicing"
   ]
  },
  {
   "cell_type": "code",
   "execution_count": null,
   "id": "7c20a0d1",
   "metadata": {},
   "outputs": [],
   "source": [
    "Employee"
   ]
  },
  {
   "cell_type": "code",
   "execution_count": null,
   "id": "262b37ef",
   "metadata": {},
   "outputs": [],
   "source": [
    "Employee[1]"
   ]
  },
  {
   "cell_type": "code",
   "execution_count": null,
   "id": "d1364c60",
   "metadata": {},
   "outputs": [],
   "source": [
    "emp_salary"
   ]
  },
  {
   "cell_type": "code",
   "execution_count": null,
   "id": "ad5c68de",
   "metadata": {},
   "outputs": [],
   "source": [
    "emp_salary[3]"
   ]
  },
  {
   "cell_type": "code",
   "execution_count": null,
   "id": "e5351aa8",
   "metadata": {},
   "outputs": [],
   "source": [
    "emp_salary[1:]"
   ]
  },
  {
   "cell_type": "code",
   "execution_count": null,
   "id": "21b5ce0b",
   "metadata": {},
   "outputs": [],
   "source": [
    "emp_salary[:3]"
   ]
  },
  {
   "cell_type": "code",
   "execution_count": null,
   "id": "dbac375a",
   "metadata": {},
   "outputs": [],
   "source": [
    "emp_salary[1:3]"
   ]
  },
  {
   "cell_type": "code",
   "execution_count": null,
   "id": "c3bfc939",
   "metadata": {},
   "outputs": [],
   "source": [
    "Employee[1]='Rishu'\n",
    "Employee"
   ]
  },
  {
   "cell_type": "code",
   "execution_count": null,
   "id": "7a2b419b",
   "metadata": {},
   "outputs": [],
   "source": [
    "emp_salary[1]=20000\n",
    "emp_salary"
   ]
  },
  {
   "cell_type": "code",
   "execution_count": null,
   "id": "75a6cff9",
   "metadata": {},
   "outputs": [],
   "source": [
    "emp_salary + [22000]"
   ]
  },
  {
   "cell_type": "code",
   "execution_count": null,
   "id": "ac6b0d22",
   "metadata": {},
   "outputs": [],
   "source": [
    "emp_salary"
   ]
  },
  {
   "cell_type": "code",
   "execution_count": null,
   "id": "913af15e",
   "metadata": {},
   "outputs": [],
   "source": [
    "emp_salary.append(25000)"
   ]
  },
  {
   "cell_type": "code",
   "execution_count": null,
   "id": "45384367",
   "metadata": {},
   "outputs": [],
   "source": [
    "emp_salary"
   ]
  },
  {
   "cell_type": "code",
   "execution_count": null,
   "id": "75e77517",
   "metadata": {},
   "outputs": [],
   "source": [
    "emp_salary=emp_salary+[30000]"
   ]
  },
  {
   "cell_type": "code",
   "execution_count": null,
   "id": "5a1a989d",
   "metadata": {},
   "outputs": [],
   "source": [
    "emp_salary"
   ]
  },
  {
   "cell_type": "code",
   "execution_count": null,
   "id": "fefce0f2",
   "metadata": {},
   "outputs": [],
   "source": [
    "emp_salary * 2"
   ]
  },
  {
   "cell_type": "code",
   "execution_count": null,
   "id": "632814ed",
   "metadata": {},
   "outputs": [],
   "source": [
    "emp_salary"
   ]
  },
  {
   "cell_type": "code",
   "execution_count": null,
   "id": "59835bdb",
   "metadata": {},
   "outputs": [],
   "source": [
    "print ('=' * 90)\n",
    "print ('                                     I LOVE MY INDIA               ')\n",
    "print ('*' * 90)"
   ]
  },
  {
   "cell_type": "raw",
   "id": "bad5b904",
   "metadata": {},
   "source": []
  },
  {
   "cell_type": "code",
   "execution_count": 75,
   "id": "facd3911",
   "metadata": {},
   "outputs": [],
   "source": [
    "marks = [25,100,38,49,55,38,100,55,100,30,50,80,90,55,65,30]"
   ]
  },
  {
   "cell_type": "code",
   "execution_count": 76,
   "id": "aa3776fa",
   "metadata": {},
   "outputs": [
    {
     "data": {
      "text/plain": [
       "3"
      ]
     },
     "execution_count": 76,
     "metadata": {},
     "output_type": "execute_result"
    }
   ],
   "source": [
    "marks.count(100)"
   ]
  },
  {
   "cell_type": "code",
   "execution_count": 77,
   "id": "8bec3925",
   "metadata": {},
   "outputs": [
    {
     "data": {
      "text/plain": [
       "[25, 100, 38, 49, 55, 38, 100, 55, 100, 30, 50, 80, 90, 55, 65, 30]"
      ]
     },
     "execution_count": 77,
     "metadata": {},
     "output_type": "execute_result"
    }
   ],
   "source": [
    "marks"
   ]
  },
  {
   "cell_type": "code",
   "execution_count": 78,
   "id": "3d85e0dd",
   "metadata": {},
   "outputs": [
    {
     "data": {
      "text/plain": [
       "1"
      ]
     },
     "execution_count": 78,
     "metadata": {},
     "output_type": "execute_result"
    }
   ],
   "source": [
    "marks.index(100)"
   ]
  },
  {
   "cell_type": "code",
   "execution_count": 80,
   "id": "80534123",
   "metadata": {},
   "outputs": [
    {
     "name": "stdout",
     "output_type": "stream",
     "text": [
      "['Radha', 'Rishu', 'Ramesh', 'Suresh', ['Sapna', 'Anshika']]\n"
     ]
    }
   ],
   "source": [
    "Employee.append(['Sapna','Anshika'])\n",
    "print(Employee)"
   ]
  },
  {
   "cell_type": "code",
   "execution_count": 81,
   "id": "09d7449f",
   "metadata": {},
   "outputs": [
    {
     "name": "stdout",
     "output_type": "stream",
     "text": [
      "['Radha', 'Rishu', 'Ramesh', 'Suresh', 'Sapna', 'Anshika']\n"
     ]
    }
   ],
   "source": [
    "Employee = ['Radha', 'Rishu','Ramesh','Suresh']\n",
    "Employee.extend(['Sapna', 'Anshika'])\n",
    "print(Employee)"
   ]
  },
  {
   "cell_type": "code",
   "execution_count": 82,
   "id": "6a1d338a",
   "metadata": {},
   "outputs": [],
   "source": [
    "students = ['Raj', 'Golu','Richa', 'Naveen','Rajiv','Suraj']"
   ]
  },
  {
   "cell_type": "code",
   "execution_count": 83,
   "id": "fac1d017",
   "metadata": {},
   "outputs": [
    {
     "data": {
      "text/plain": [
       "['Raj', 'Golu', 'Richa', 'Naveen', 'Rajiv', 'Suraj']"
      ]
     },
     "execution_count": 83,
     "metadata": {},
     "output_type": "execute_result"
    }
   ],
   "source": [
    "students"
   ]
  },
  {
   "cell_type": "code",
   "execution_count": 84,
   "id": "c2ee7021",
   "metadata": {},
   "outputs": [
    {
     "data": {
      "text/plain": [
       "'Suraj'"
      ]
     },
     "execution_count": 84,
     "metadata": {},
     "output_type": "execute_result"
    }
   ],
   "source": [
    "students.pop()"
   ]
  },
  {
   "cell_type": "code",
   "execution_count": 85,
   "id": "39df704c",
   "metadata": {},
   "outputs": [
    {
     "data": {
      "text/plain": [
       "['Raj', 'Golu', 'Richa', 'Naveen', 'Rajiv']"
      ]
     },
     "execution_count": 85,
     "metadata": {},
     "output_type": "execute_result"
    }
   ],
   "source": [
    "students"
   ]
  },
  {
   "cell_type": "code",
   "execution_count": 86,
   "id": "58c2d4da",
   "metadata": {},
   "outputs": [
    {
     "data": {
      "text/plain": [
       "'Golu'"
      ]
     },
     "execution_count": 86,
     "metadata": {},
     "output_type": "execute_result"
    }
   ],
   "source": [
    "students.pop(1)"
   ]
  },
  {
   "cell_type": "code",
   "execution_count": 87,
   "id": "efb0bd28",
   "metadata": {},
   "outputs": [
    {
     "data": {
      "text/plain": [
       "['Raj', 'Richa', 'Naveen', 'Rajiv']"
      ]
     },
     "execution_count": 87,
     "metadata": {},
     "output_type": "execute_result"
    }
   ],
   "source": [
    "students"
   ]
  },
  {
   "cell_type": "code",
   "execution_count": 88,
   "id": "b9280455",
   "metadata": {},
   "outputs": [],
   "source": [
    "roll_number = [100,102,103,104,103,106,110,104]"
   ]
  },
  {
   "cell_type": "code",
   "execution_count": 89,
   "id": "756bd5ec",
   "metadata": {},
   "outputs": [
    {
     "data": {
      "text/plain": [
       "[100, 102, 103, 104, 103, 106, 110, 104]"
      ]
     },
     "execution_count": 89,
     "metadata": {},
     "output_type": "execute_result"
    }
   ],
   "source": [
    "roll_number"
   ]
  },
  {
   "cell_type": "code",
   "execution_count": 90,
   "id": "1b03be9a",
   "metadata": {},
   "outputs": [],
   "source": [
    "roll_number.remove(103)"
   ]
  },
  {
   "cell_type": "code",
   "execution_count": 91,
   "id": "2a92c3ee",
   "metadata": {},
   "outputs": [
    {
     "data": {
      "text/plain": [
       "[100, 102, 104, 103, 106, 110, 104]"
      ]
     },
     "execution_count": 91,
     "metadata": {},
     "output_type": "execute_result"
    }
   ],
   "source": [
    "roll_number"
   ]
  },
  {
   "cell_type": "code",
   "execution_count": 92,
   "id": "56e70152",
   "metadata": {},
   "outputs": [],
   "source": [
    "roll_number.remove(104)"
   ]
  },
  {
   "cell_type": "code",
   "execution_count": 93,
   "id": "5f972fc1",
   "metadata": {},
   "outputs": [
    {
     "data": {
      "text/plain": [
       "[100, 102, 103, 106, 110, 104]"
      ]
     },
     "execution_count": 93,
     "metadata": {},
     "output_type": "execute_result"
    }
   ],
   "source": [
    "roll_number"
   ]
  },
  {
   "cell_type": "code",
   "execution_count": 94,
   "id": "2f9aface",
   "metadata": {},
   "outputs": [],
   "source": [
    "lst = [1,2,3,4,5,6,]"
   ]
  },
  {
   "cell_type": "code",
   "execution_count": 96,
   "id": "7744c321",
   "metadata": {},
   "outputs": [],
   "source": [
    "lst.reverse()"
   ]
  },
  {
   "cell_type": "code",
   "execution_count": 97,
   "id": "bf3ffc5e",
   "metadata": {},
   "outputs": [
    {
     "data": {
      "text/plain": [
       "[6, 5, 4, 3, 2, 1]"
      ]
     },
     "execution_count": 97,
     "metadata": {},
     "output_type": "execute_result"
    }
   ],
   "source": [
    "lst"
   ]
  },
  {
   "cell_type": "code",
   "execution_count": 103,
   "id": "b5448eca",
   "metadata": {},
   "outputs": [],
   "source": [
    "marks = [25,26,78,52,54,36,25,16,54,45,95,75,100]"
   ]
  },
  {
   "cell_type": "code",
   "execution_count": 104,
   "id": "6ff29393",
   "metadata": {},
   "outputs": [
    {
     "data": {
      "text/plain": [
       "[25, 26, 78, 52, 54, 36, 25, 16, 54, 45, 95, 75, 100]"
      ]
     },
     "execution_count": 104,
     "metadata": {},
     "output_type": "execute_result"
    }
   ],
   "source": [
    "marks"
   ]
  },
  {
   "cell_type": "code",
   "execution_count": 105,
   "id": "228c2766",
   "metadata": {},
   "outputs": [
    {
     "data": {
      "text/plain": [
       "[16, 25, 25, 26, 36, 45, 52, 54, 54, 75, 78, 95, 100]"
      ]
     },
     "execution_count": 105,
     "metadata": {},
     "output_type": "execute_result"
    }
   ],
   "source": [
    "marks.sort()\n",
    "marks"
   ]
  },
  {
   "cell_type": "code",
   "execution_count": 101,
   "id": "970e3ca2",
   "metadata": {},
   "outputs": [
    {
     "name": "stdout",
     "output_type": "stream",
     "text": [
      "[100, 95, 78, 75, 54, 54, 52, 45, 36, 26, 25, 25, 16]\n"
     ]
    }
   ],
   "source": [
    "marks.sort(reverse=True)\n",
    "print(marks)"
   ]
  },
  {
   "cell_type": "code",
   "execution_count": 106,
   "id": "ddac372f",
   "metadata": {},
   "outputs": [],
   "source": [
    "marks.reverse()"
   ]
  },
  {
   "cell_type": "code",
   "execution_count": 107,
   "id": "2c6342eb",
   "metadata": {},
   "outputs": [
    {
     "data": {
      "text/plain": [
       "[100, 95, 78, 75, 54, 54, 52, 45, 36, 26, 25, 25, 16]"
      ]
     },
     "execution_count": 107,
     "metadata": {},
     "output_type": "execute_result"
    }
   ],
   "source": [
    "marks"
   ]
  },
  {
   "cell_type": "code",
   "execution_count": null,
   "id": "9783cabe",
   "metadata": {},
   "outputs": [],
   "source": []
  }
 ],
 "metadata": {
  "kernelspec": {
   "display_name": "Python 3 (ipykernel)",
   "language": "python",
   "name": "python3"
  },
  "language_info": {
   "codemirror_mode": {
    "name": "ipython",
    "version": 3
   },
   "file_extension": ".py",
   "mimetype": "text/x-python",
   "name": "python",
   "nbconvert_exporter": "python",
   "pygments_lexer": "ipython3",
   "version": "3.9.13"
  }
 },
 "nbformat": 4,
 "nbformat_minor": 5
}
